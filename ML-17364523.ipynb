{
 "cells": [
  {
   "cell_type": "code",
   "execution_count": 248,
   "metadata": {},
   "outputs": [
    {
     "data": {
      "text/html": [
       "<div>\n",
       "<style scoped>\n",
       "    .dataframe tbody tr th:only-of-type {\n",
       "        vertical-align: middle;\n",
       "    }\n",
       "\n",
       "    .dataframe tbody tr th {\n",
       "        vertical-align: top;\n",
       "    }\n",
       "\n",
       "    .dataframe thead th {\n",
       "        text-align: right;\n",
       "    }\n",
       "</style>\n",
       "<table border=\"1\" class=\"dataframe\">\n",
       "  <thead>\n",
       "    <tr style=\"text-align: right;\">\n",
       "      <th></th>\n",
       "      <th>Age</th>\n",
       "      <th>Year</th>\n",
       "      <th>NNodes</th>\n",
       "      <th>Class</th>\n",
       "      <th>Survived</th>\n",
       "    </tr>\n",
       "  </thead>\n",
       "  <tbody>\n",
       "    <tr>\n",
       "      <th>0</th>\n",
       "      <td>30</td>\n",
       "      <td>64</td>\n",
       "      <td>1</td>\n",
       "      <td>1</td>\n",
       "      <td>GE5</td>\n",
       "    </tr>\n",
       "    <tr>\n",
       "      <th>1</th>\n",
       "      <td>30</td>\n",
       "      <td>62</td>\n",
       "      <td>3</td>\n",
       "      <td>1</td>\n",
       "      <td>GE5</td>\n",
       "    </tr>\n",
       "    <tr>\n",
       "      <th>2</th>\n",
       "      <td>30</td>\n",
       "      <td>65</td>\n",
       "      <td>0</td>\n",
       "      <td>1</td>\n",
       "      <td>GE5</td>\n",
       "    </tr>\n",
       "    <tr>\n",
       "      <th>3</th>\n",
       "      <td>31</td>\n",
       "      <td>59</td>\n",
       "      <td>2</td>\n",
       "      <td>1</td>\n",
       "      <td>GE5</td>\n",
       "    </tr>\n",
       "    <tr>\n",
       "      <th>4</th>\n",
       "      <td>31</td>\n",
       "      <td>65</td>\n",
       "      <td>4</td>\n",
       "      <td>1</td>\n",
       "      <td>GE5</td>\n",
       "    </tr>\n",
       "  </tbody>\n",
       "</table>\n",
       "</div>"
      ],
      "text/plain": [
       "   Age  Year  NNodes  Class Survived\n",
       "0   30    64       1      1      GE5\n",
       "1   30    62       3      1      GE5\n",
       "2   30    65       0      1      GE5\n",
       "3   31    59       2      1      GE5\n",
       "4   31    65       4      1      GE5"
      ]
     },
     "execution_count": 248,
     "metadata": {},
     "output_type": "execute_result"
    }
   ],
   "source": [
    "import numpy as np\n",
    "import pandas as pd\n",
    "import matplotlib.pyplot as plt\n",
    "from collections import Counter\n",
    "from sklearn.metrics import classification_report\n",
    "from sklearn.metrics import confusion_matrix, accuracy_score\n",
    "from sklearn.metrics import accuracy_score\n",
    "from collections import Counter\n",
    "from sklearn.model_selection import train_test_split\n",
    "from sklearn.metrics import f1_score\n",
    "\n",
    "surv = pd.read_csv('survival.csv')\n",
    "surv['Survived'] = 'GE5'\n",
    "surv.loc[surv['Class']==2,'Survived']='L5'\n",
    "surv.head()"
   ]
  },
  {
   "cell_type": "code",
   "execution_count": 249,
   "metadata": {},
   "outputs": [
    {
     "data": {
      "text/plain": [
       "GE5    225\n",
       "L5      81\n",
       "Name: Survived, dtype: int64"
      ]
     },
     "execution_count": 249,
     "metadata": {},
     "output_type": "execute_result"
    }
   ],
   "source": [
    "surv['Survived'].value_counts() "
   ]
  },
  {
   "cell_type": "code",
   "execution_count": 250,
   "metadata": {},
   "outputs": [
    {
     "data": {
      "image/png": "[encoded data removed]",
      "text/plain": [
       "<Figure size 432x288 with 1 Axes>"
      ]
     },
     "metadata": {
      "needs_background": "light"
     },
     "output_type": "display_data"
    }
   ],
   "source": [
    "objects = ('GE5', 'L5')\n",
    "y_pos = np.arange(len(objects))\n",
    "performance = [Counter(surv.Survived)['GE5'], Counter(surv.Survived)['L5']]\n",
    "\n",
    "plt.bar(y_pos, performance, align='center', alpha=0.5)\n",
    "plt.xticks(y_pos, objects)\n",
    "plt.ylabel('Counts')\n",
    "plt.title('Counts of each class')\n",
    "\n",
    "plt.show()"
   ]
  },
  {
   "cell_type": "markdown",
   "metadata": {},
   "source": [
    "You can clearly see that this is a very unbalanced dataset. There are nearly 3 times more cases of GE5 class than there is of L5."
   ]
  },
  {
   "cell_type": "code",
   "execution_count": 251,
   "metadata": {},
   "outputs": [
    {
     "data": {
      "text/plain": [
       "((306, 3), (306,))"
      ]
     },
     "execution_count": 251,
     "metadata": {},
     "output_type": "execute_result"
    }
   ],
   "source": [
    "y = surv.pop('Survived').values\n",
    "surv.pop('Class')\n",
    "X = surv.values\n",
    "X.shape, y.shape"
   ]
  },
  {
   "cell_type": "code",
   "execution_count": 252,
   "metadata": {},
   "outputs": [
    {
     "name": "stdout",
     "output_type": "stream",
     "text": [
      "Minority class : 0.26\n"
     ]
    }
   ],
   "source": [
    "print(\"Minority class : %0.2f\" % (Counter(y)['L5']/len(y)))"
   ]
  },
  {
   "cell_type": "markdown",
   "metadata": {},
   "source": [
    "# Models\n",
    "In this analysis I will us 4 different classifiers\n",
    "- k-NN\n",
    "- Decision Trees \n",
    "- Logistic Regression\n",
    "- Gradient Boosting"
   ]
  },
  {
   "cell_type": "code",
   "execution_count": 253,
   "metadata": {},
   "outputs": [],
   "source": [
    "from sklearn.ensemble import GradientBoostingClassifier\n",
    "from sklearn.neighbors import KNeighborsClassifier\n",
    "from sklearn.tree import DecisionTreeClassifier\n",
    "from sklearn.linear_model import LogisticRegression\n",
    "\n",
    "from sklearn.metrics import confusion_matrix, accuracy_score\n",
    "from sklearn.model_selection import train_test_split\n",
    "\n",
    "model_d = {}\n",
    "\n",
    "model_d['dtree'] = DecisionTreeClassifier(criterion='entropy')\n",
    "model_d['kNN'] = KNeighborsClassifier(n_neighbors=3)  \n",
    "model_d['gradientBoost'] = GradientBoostingClassifier()\n",
    "model_d['logistic'] = LogisticRegression(max_iter=10000, solver = 'sag', random_state=0)\n"
   ]
  },
  {
   "cell_type": "markdown",
   "metadata": {},
   "source": [
    "# Hold out testing\n",
    "I will first compare each model using hold out testing."
   ]
  },
  {
   "cell_type": "code",
   "execution_count": 254,
   "metadata": {},
   "outputs": [
    {
     "name": "stdout",
     "output_type": "stream",
     "text": [
      "DecisionTreeClassifier\n",
      "(229, 3) (77, 3)\n",
      "Accuracy:  0.62\n",
      "Minority class in test set : 0.40\n",
      "Predicted minority class : 0.23\n",
      "*********************\n",
      "KNeighborsClassifier  \n",
      "(229, 3) (77, 3)\n",
      "Accuracy:  0.64\n",
      "Minority class in test set : 0.40\n",
      "Predicted minority class : 0.17\n",
      "*********************\n",
      "GradientBoostingClassifier\n",
      "(229, 3) (77, 3)\n",
      "Accuracy:  0.57\n",
      "Minority class in test set : 0.40\n",
      "Predicted minority class : 0.16\n",
      "*********************\n",
      "LogisticRegression    \n",
      "(229, 3) (77, 3)\n",
      "Accuracy:  0.61\n",
      "Minority class in test set : 0.40\n",
      "Predicted minority class : 0.04\n",
      "*********************\n"
     ]
    }
   ],
   "source": [
    "X_train, X_test, y_train, y_test = train_test_split(X, y, random_state=0)\n",
    "bias_d = {}\n",
    "acc_bl = {}\n",
    "\n",
    "#print(\"Minority class in test set : %0.2f\" % (test_neg/len(y_test)))\n",
    "\n",
    "for m in model_d:\n",
    "    y_pred = model_d[m].fit(X_train, y_train).predict(X_test)\n",
    "\n",
    "    pred_neg = Counter(y_pred)['L5']\n",
    "    test_neg = Counter(y_test)['L5']\n",
    "    bias_d[m] = pred_neg/len(y_pred)\n",
    "    \n",
    "    print(\"{:22}\".format(type(model_d[m]).__name__))\n",
    "    print(X_train.shape,X_test.shape)\n",
    "    print('Accuracy:  %0.2f' % accuracy_score(y_pred, y_test))\n",
    "    acc_bl[m] = accuracy_score(y_pred, y_test)\n",
    "    print(\"Minority class in test set : %0.2f\" % (test_neg/len(y_test)))\n",
    "    print(\"Predicted minority class : %0.2f\" % (pred_neg/len(y_pred)))\n",
    "    print('*********************')"
   ]
  },
  {
   "cell_type": "code",
   "execution_count": 255,
   "metadata": {},
   "outputs": [
    {
     "data": {
      "image/png": "[encoded data removed]",
      "text/plain": [
       "<Figure size 432x288 with 1 Axes>"
      ]
     },
     "metadata": {
      "needs_background": "light"
     },
     "output_type": "display_data"
    }
   ],
   "source": [
    "import matplotlib.pyplot as plt \n",
    "import numpy as np\n",
    "%matplotlib inline \n",
    "\n",
    "# Add the prior figures to the data for plotting\n",
    "objects = list(bias_d.keys())\n",
    "positive = list(bias_d.values())\n",
    "\n",
    "y_pos = np.arange(len(objects))\n",
    "\n",
    "plt.bar(y_pos, positive, align='center', color=['blue', 'blue','blue','blue'],alpha=0.5)\n",
    "plt.axhline(y= round(test_neg/len(y_test),1), color='black', linestyle='-')\n",
    "plt.xticks(y_pos, objects)\n",
    "plt.ylabel('Malginant Count')\n",
    "plt.title('ML Algorithm Bias')\n",
    " \n",
    "plt.show()"
   ]
  },
  {
   "cell_type": "markdown",
   "metadata": {},
   "source": [
    "### Hold- Out Testing Discussion\n",
    "The test set contained 40% L5 and 60% GE5.\n",
    "- Assessment of bias is independent of accuracy, i.e. proportion of examples classified as the minority class compared with the actual proportion in the test set.\n",
    "- Every model appears to be biased towards the majority class as each model predicts less than 40% L5 class.\n",
    "- Logistic regression showed the most bias, only predicting 4% L5 class.\n",
    "- Gradient boosting predicted only 16% L5 class, which again is significantly lower than the target of 40%.\n",
    "- K-NN wasnt much better as it predicted 17% L5 class.\n",
    "- Decision tree showed the least biased predicting 25% L5 class. Although this was the least biased it still is very biased towards the majority class as 25% is significantly lover than 40%."
   ]
  },
  {
   "cell_type": "markdown",
   "metadata": {},
   "source": [
    "# Cross validation\n",
    "I will now compare each model using cross validation. Cross-validation is a statistical method used to estimate the skill of machine learning models. I will use 3-fold, 5-fold and 10-fold cross validation."
   ]
  },
  {
   "cell_type": "code",
   "execution_count": 280,
   "metadata": {},
   "outputs": [],
   "source": [
    "from sklearn.model_selection import cross_validate\n",
    "from sklearn.metrics import make_scorer\n",
    "\n",
    "def tp(y_true, y_pred): return confusion_matrix(y_true, y_pred)[1, 1]\n",
    "def tn(y_true, y_pred): return confusion_matrix(y_true, y_pred)[0, 0]\n",
    "def fp(y_true, y_pred): return confusion_matrix(y_true, y_pred)[0, 1]\n",
    "def fn(y_true, y_pred): return confusion_matrix(y_true, y_pred)[1, 0]\n",
    "scoring = {'tp' : make_scorer(tp), 'tn' : make_scorer(tn),\n",
    "           'fp' : make_scorer(fp), 'fn' : make_scorer(fn)}\n",
    "\n",
    "v = 0 #  use 1 or 0"
   ]
  },
  {
   "cell_type": "code",
   "execution_count": 281,
   "metadata": {},
   "outputs": [
    {
     "name": "stdout",
     "output_type": "stream",
     "text": [
      "3 x CV DecisionTreeClassifier N: 81 Pred N: 66 Acc: 0.65\n",
      "3 x CV KNeighborsClassifier   N: 81 Pred N: 68 Acc: 0.68\n",
      "3 x CV GradientBoostingClassifier N: 81 Pred N: 53 Acc: 0.71\n",
      "3 x CV LogisticRegression     N: 81 Pred N: 27 Acc: 0.75\n"
     ]
    }
   ],
   "source": [
    "bias_cvx3 = {}\n",
    "folds = 3\n",
    "for m in model_d:\n",
    "    cv_results = cross_validate(model_d[m], X, y, cv= folds,scoring=scoring, return_train_score=False,verbose = v, n_jobs = -1)\n",
    "    n_tot = cv_results['test_tp'].sum() + cv_results['test_fp'].sum()\n",
    "    acc = (cv_results['test_tn'].sum() + cv_results['test_tp'].sum())/len(y)\n",
    "    bias_cvx3[m] = n_tot\n",
    "  \n",
    "    print(\"{} x CV {:22} N: {:d} Pred N: {:d} Acc: {:.2f}\".format(folds, type(model_d[m]).__name__, 81 , n_tot,acc)) "
   ]
  },
  {
   "cell_type": "code",
   "execution_count": 282,
   "metadata": {},
   "outputs": [
    {
     "name": "stdout",
     "output_type": "stream",
     "text": [
      "5 x CV DecisionTreeClassifier N: 81 Pred N: 97 Acc: 0.62\n",
      "5 x CV KNeighborsClassifier   N: 81 Pred N: 76 Acc: 0.66\n",
      "5 x CV GradientBoostingClassifier N: 81 Pred N: 72 Acc: 0.64\n",
      "5 x CV LogisticRegression     N: 81 Pred N: 23 Acc: 0.75\n"
     ]
    }
   ],
   "source": [
    "bias_cvx5 = {}\n",
    "folds = 5\n",
    "for m in model_d:\n",
    "    cv_results = cross_validate(model_d[m], X, y, cv= folds,scoring=scoring, return_train_score=False,verbose = v, n_jobs = -1)\n",
    "    n_tot = cv_results['test_tp'].sum() + cv_results['test_fp'].sum()\n",
    "    acc = (cv_results['test_tn'].sum() + cv_results['test_tp'].sum())/len(y)\n",
    "    bias_cvx5[m] = n_tot\n",
    "  \n",
    "    print(\"{} x CV {:22} N: {:d} Pred N: {:d} Acc: {:.2f}\".format(folds, type(model_d[m]).__name__, 81 , n_tot,acc)) \n"
   ]
  },
  {
   "cell_type": "code",
   "execution_count": 283,
   "metadata": {},
   "outputs": [
    {
     "name": "stdout",
     "output_type": "stream",
     "text": [
      "10 x CV DecisionTreeClassifier N: 81 Pred N: 98 Acc: 0.61\n",
      "10 x CV KNeighborsClassifier   N: 81 Pred N: 69 Acc: 0.67\n",
      "10 x CV GradientBoostingClassifier N: 81 Pred N: 76 Acc: 0.62\n",
      "10 x CV LogisticRegression     N: 81 Pred N: 24 Acc: 0.75\n"
     ]
    }
   ],
   "source": [
    "bias_cvx10 = {}\n",
    "folds = 10\n",
    "for m in model_d:\n",
    "    cv_results = cross_validate(model_d[m], X, y, cv= folds,scoring=scoring, return_train_score=False,verbose = v, n_jobs = -1)\n",
    "    n_tot = cv_results['test_tp'].sum() + cv_results['test_fp'].sum()\n",
    "    acc = (cv_results['test_tn'].sum() + cv_results['test_tp'].sum())/len(y)\n",
    "    bias_cvx10[m] = n_tot\n",
    "  \n",
    "    print(\"{} x CV {:22} N: {:d} Pred N: {:d} Acc: {:.2f}\".format(folds, type(model_d[m]).__name__, 81 , n_tot,acc)) \n"
   ]
  },
  {
   "cell_type": "code",
   "execution_count": 284,
   "metadata": {},
   "outputs": [],
   "source": [
    "for key in bias_cvx3:\n",
    "    bias_cvx3[key]= bias_cvx3[key]/len(y)\n",
    "\n",
    "for key in bias_cvx5:\n",
    "    bias_cvx5[key]= bias_cvx5[key]/len(y)\n",
    "    \n",
    "for key in bias_cvx10:\n",
    "    bias_cvx10[key]= bias_cvx10[key]/len(y)"
   ]
  },
  {
   "cell_type": "code",
   "execution_count": 285,
   "metadata": {},
   "outputs": [
    {
     "data": {
      "image/png": "[encoded data removed]",
      "text/plain": [
       "<Figure size 1080x720 with 3 Axes>"
      ]
     },
     "metadata": {
      "needs_background": "light"
     },
     "output_type": "display_data"
    }
   ],
   "source": [
    "import matplotlib.pyplot as plt \n",
    "import numpy as np\n",
    "import matplotlib.pyplot as plt\n",
    "%matplotlib inline \n",
    "\n",
    "objects = list(bias_cvx3.keys())\n",
    "positivex3 = list(bias_cvx3.values())\n",
    "positivex5 = list(bias_cvx5.values())\n",
    "positivex10 = list(bias_cvx10.values())\n",
    "\n",
    "fig, ax = plt.subplots(figsize=(15,10))\n",
    "y_pos = np.arange(len(objects))\n",
    "plt.subplot(1, 3, 1)\n",
    "plt.bar(y_pos, positivex3, align='center', color=['blue', 'blue','blue','blue','blue'],alpha=0.5)\n",
    "plt.axhline(y= round(Counter(y)['L5']/len(y),2), color='black', linestyle='-')\n",
    "plt.yticks([0.00,0.05,0.10,0.15,0.20,0.25,0.30,0.35])\n",
    "plt.xticks(y_pos,objects)\n",
    "plt.ylabel('L5 Count%')\n",
    "plt.title('ML Algorithm Bias (3X-val)')\n",
    "\n",
    "plt.subplot(1, 3, 2)\n",
    "y_pos = np.arange(len(objects))\n",
    "\n",
    "plt.bar(y_pos, positivex5, align='center', color=['blue', 'blue','blue','blue','blue'],alpha=0.5)\n",
    "plt.axhline(y= round(Counter(y)['L5']/len(y),2), color='black', linestyle='-')\n",
    "plt.yticks([0.00,0.05,0.10,0.15,0.20,0.25,0.30,0.35])\n",
    "plt.xticks(y_pos,objects)\n",
    "plt.ylabel('L5 Count%')\n",
    "plt.title('ML Algorithm Bias (5X-val)')\n",
    "\n",
    "plt.subplot(1, 3, 3)\n",
    "y_pos = np.arange(len(objects))\n",
    "\n",
    "plt.bar(y_pos, positivex10, align='center', color=['blue', 'blue','blue','blue','blue'],alpha=0.5)\n",
    "plt.axhline(y= round(Counter(y)['L5']/len(y),2), color='black', linestyle='-')\n",
    "plt.yticks([0.00,0.05,0.10,0.15,0.20,0.25,0.30,0.35])\n",
    "plt.xticks(y_pos,objects)\n",
    "plt.ylabel('L5 Count%')\n",
    "plt.title('ML Algorithm Bias (10X-val)')\n",
    " \n",
    "plt.show()"
   ]
  },
  {
   "cell_type": "markdown",
   "metadata": {},
   "source": [
    "### X-Val Testing Discussion\n",
    "- 10 and 5 fold cross validation seemed to produce the best results.\n",
    "- This assessment is more robust than Hold-Out Testing because all data is consisered. \n",
    "  - We have 81 minority class examples compared with 31 (40% of the test set) in hold-out.\n",
    "- Gradient boosting and kNN are not really showing any bias in both 10 and 5 fold.\n",
    "- Logisitic regression is still showing significant bias."
   ]
  },
  {
   "cell_type": "markdown",
   "metadata": {},
   "source": [
    "# Question 2\n",
    "I will now look a 3 strategies to rectify this bias.\n",
    "The 3 strategies are:\n",
    "- Downsampling\n",
    "- Upsampling\n",
    "- Up and down-sampling"
   ]
  },
  {
   "cell_type": "code",
   "execution_count": 27,
   "metadata": {},
   "outputs": [],
   "source": [
    "# check version number\n",
    "import imblearn\n",
    "from imblearn.over_sampling import SMOTE\n",
    "from imblearn.under_sampling import RandomUnderSampler\n",
    "from imblearn.pipeline import Pipeline"
   ]
  },
  {
   "cell_type": "code",
   "execution_count": 28,
   "metadata": {},
   "outputs": [
    {
     "data": {
      "text/html": [
       "<div>\n",
       "<style scoped>\n",
       "    .dataframe tbody tr th:only-of-type {\n",
       "        vertical-align: middle;\n",
       "    }\n",
       "\n",
       "    .dataframe tbody tr th {\n",
       "        vertical-align: top;\n",
       "    }\n",
       "\n",
       "    .dataframe thead th {\n",
       "        text-align: right;\n",
       "    }\n",
       "</style>\n",
       "<table border=\"1\" class=\"dataframe\">\n",
       "  <thead>\n",
       "    <tr style=\"text-align: right;\">\n",
       "      <th></th>\n",
       "      <th>Age</th>\n",
       "      <th>Year</th>\n",
       "      <th>NNodes</th>\n",
       "      <th>Class</th>\n",
       "      <th>Survived</th>\n",
       "    </tr>\n",
       "  </thead>\n",
       "  <tbody>\n",
       "    <tr>\n",
       "      <th>0</th>\n",
       "      <td>30</td>\n",
       "      <td>64</td>\n",
       "      <td>1</td>\n",
       "      <td>1</td>\n",
       "      <td>GE5</td>\n",
       "    </tr>\n",
       "    <tr>\n",
       "      <th>1</th>\n",
       "      <td>30</td>\n",
       "      <td>62</td>\n",
       "      <td>3</td>\n",
       "      <td>1</td>\n",
       "      <td>GE5</td>\n",
       "    </tr>\n",
       "    <tr>\n",
       "      <th>2</th>\n",
       "      <td>30</td>\n",
       "      <td>65</td>\n",
       "      <td>0</td>\n",
       "      <td>1</td>\n",
       "      <td>GE5</td>\n",
       "    </tr>\n",
       "    <tr>\n",
       "      <th>3</th>\n",
       "      <td>31</td>\n",
       "      <td>59</td>\n",
       "      <td>2</td>\n",
       "      <td>1</td>\n",
       "      <td>GE5</td>\n",
       "    </tr>\n",
       "    <tr>\n",
       "      <th>4</th>\n",
       "      <td>31</td>\n",
       "      <td>65</td>\n",
       "      <td>4</td>\n",
       "      <td>1</td>\n",
       "      <td>GE5</td>\n",
       "    </tr>\n",
       "  </tbody>\n",
       "</table>\n",
       "</div>"
      ],
      "text/plain": [
       "   Age  Year  NNodes  Class Survived\n",
       "0   30    64       1      1      GE5\n",
       "1   30    62       3      1      GE5\n",
       "2   30    65       0      1      GE5\n",
       "3   31    59       2      1      GE5\n",
       "4   31    65       4      1      GE5"
      ]
     },
     "execution_count": 28,
     "metadata": {},
     "output_type": "execute_result"
    }
   ],
   "source": [
    "surv = pd.read_csv('survival.csv')\n",
    "surv['Survived'] = 'GE5'\n",
    "surv.loc[surv['Class']==2,'Survived']='L5'\n",
    "surv.head()"
   ]
  },
  {
   "cell_type": "code",
   "execution_count": 29,
   "metadata": {},
   "outputs": [
    {
     "data": {
      "text/plain": [
       "((306, 3), (306,))"
      ]
     },
     "execution_count": 29,
     "metadata": {},
     "output_type": "execute_result"
    }
   ],
   "source": [
    "y = surv.pop('Survived').values\n",
    "surv.pop('Class')\n",
    "X = surv.values\n",
    "X.shape, y.shape"
   ]
  },
  {
   "cell_type": "code",
   "execution_count": 30,
   "metadata": {},
   "outputs": [],
   "source": [
    "X_train, X_test, y_train, y_test = train_test_split(X, y, random_state=0)"
   ]
  },
  {
   "cell_type": "markdown",
   "metadata": {},
   "source": [
    "# Downsampling\n",
    "The imbalanced-learn library supports random undersampling via the RandomUnderSampler class."
   ]
  },
  {
   "cell_type": "code",
   "execution_count": 31,
   "metadata": {},
   "outputs": [],
   "source": [
    "rus = RandomUnderSampler()\n",
    "X_train_res1, y_train_res1 = rus.fit_sample(X_train, y_train)"
   ]
  },
  {
   "cell_type": "code",
   "execution_count": 32,
   "metadata": {},
   "outputs": [
    {
     "name": "stdout",
     "output_type": "stream",
     "text": [
      "Original Training\n",
      "Majority class: 179\n",
      "Minority class: 50\n",
      "Upsampled Training\n",
      "Majority class: 50\n",
      "Minority class: 50\n"
     ]
    }
   ],
   "source": [
    "print(\"Original Training\")\n",
    "print(\"Majority class:\",Counter(y_train)['GE5'])\n",
    "print(\"Minority class:\", Counter(y_train)['L5'])\n",
    "print(\"Upsampled Training\")\n",
    "print(\"Majority class:\",Counter(y_train_res1)['GE5'])\n",
    "print(\"Minority class:\",Counter(y_train_res1)['L5'])"
   ]
  },
  {
   "cell_type": "code",
   "execution_count": 33,
   "metadata": {},
   "outputs": [
    {
     "name": "stdout",
     "output_type": "stream",
     "text": [
      "DecisionTreeClassifier\n",
      "(100, 3) (77, 3)\n",
      "Accuracy:  0.58\n",
      "Minority class in test set : 0.40\n",
      "Predicted minority class : 0.48\n",
      "KNeighborsClassifier  \n",
      "(100, 3) (77, 3)\n",
      "Accuracy:  0.64\n",
      "Minority class in test set : 0.40\n",
      "Predicted minority class : 0.40\n",
      "GradientBoostingClassifier\n",
      "(100, 3) (77, 3)\n",
      "Accuracy:  0.60\n",
      "Minority class in test set : 0.40\n",
      "Predicted minority class : 0.42\n",
      "LogisticRegression    \n",
      "(100, 3) (77, 3)\n",
      "Accuracy:  0.65\n",
      "Minority class in test set : 0.40\n",
      "Predicted minority class : 0.29\n"
     ]
    }
   ],
   "source": [
    "res1_d = {}\n",
    "acc_res1 = {}\n",
    "\n",
    "\n",
    "for m in model_d:\n",
    "    y_pred = model_d[m].fit(X_train_res1, y_train_res1).predict(X_test)\n",
    "\n",
    "    pred_neg = Counter(y_pred)['L5']\n",
    "    test_neg = Counter(y_test)['L5']\n",
    "    res1_d[m] = pred_neg/len(y_pred)\n",
    "    \n",
    "    print(\"{:22}\".format(type(model_d[m]).__name__))\n",
    "    print(X_train_res1.shape,X_test.shape)\n",
    "    print('Accuracy:  %0.2f' % accuracy_score(y_pred, y_test))\n",
    "    acc_res1[m] = accuracy_score(y_pred, y_test)\n",
    "    print(\"Minority class in test set : %0.2f\" % (test_neg/len(y_test)))\n",
    "    print(\"Predicted minority class : %0.2f\" % (pred_neg/len(y_pred)))"
   ]
  },
  {
   "cell_type": "code",
   "execution_count": 34,
   "metadata": {},
   "outputs": [
    {
     "data": {
      "image/png": "[encoded data removed]",
      "text/plain": [
       "<Figure size 432x288 with 1 Axes>"
      ]
     },
     "metadata": {
      "needs_background": "light"
     },
     "output_type": "display_data"
    }
   ],
   "source": [
    "import matplotlib.pyplot as plt \n",
    "import numpy as np\n",
    "%matplotlib inline \n",
    "\n",
    "fig, ax = plt.subplots()\n",
    "width = 0.35\n",
    "\n",
    "# Add the prior figures to the data for plotting\n",
    "objects = list(bias_d.keys())\n",
    "positive =list(bias_d.values())\n",
    "res = list(res1_d.values())\n",
    "\n",
    "y_pos = np.arange(len(objects))\n",
    "\n",
    "p1 = ax.bar(y_pos, positive, width, align='center', \n",
    "            color=['blue', 'blue','blue','blue'],alpha=0.5)\n",
    "\n",
    "p2 = ax.bar(y_pos+width, res, width, align='center', \n",
    "            color=['g','g','g','g'],alpha=0.5)\n",
    "\n",
    "plt.axhline(y= round(test_neg/len(y_test), 1), color='black', linestyle='-')\n",
    "\n",
    "ax.legend((p1[1], p2[1]), ('Raw', 'Downsampled'))\n",
    "\n",
    "plt.xticks(y_pos, objects)\n",
    "plt.ylabel('L5 Counts%')\n",
    "plt.title('Impact of Downsampling')\n",
    " \n",
    "plt.show()"
   ]
  },
  {
   "cell_type": "code",
   "execution_count": 35,
   "metadata": {},
   "outputs": [
    {
     "data": {
      "image/png": "[encoded data removed]",
      "text/plain": [
       "<Figure size 432x288 with 1 Axes>"
      ]
     },
     "metadata": {
      "needs_background": "light"
     },
     "output_type": "display_data"
    }
   ],
   "source": [
    "fig, ax = plt.subplots()\n",
    "\n",
    "objects =  list(acc_bl.keys())\n",
    "before =   list(acc_bl.values())\n",
    "after =  list(acc_res1.values())\n",
    "y_pos = np.arange(len(objects))\n",
    "p1 = ax.bar(y_pos, before, width, align='center', \n",
    "            color=['blue', 'blue','blue','blue'],alpha=0.5)\n",
    "p2 = ax.bar(y_pos+width, after, width, align='center', \n",
    "            color=['g','g','g','g'],alpha=0.5)\n",
    "ax.legend((p1[1], p2[1]), ('Raw', 'Downsampled'))\n",
    "plt.xticks(y_pos, objects)\n",
    "plt.ylabel('Accuracy')\n",
    "plt.title('Impact of Downsampling')\n",
    "plt.show()"
   ]
  },
  {
   "cell_type": "markdown",
   "metadata": {},
   "source": [
    "### Downsampling - Discussion\n",
    "\n",
    "The solution we propose is to downsample the majority class data in training. \n",
    "- The assessment is unstable in that different runs produce different results. \n",
    "- Downsampling on a dataset this small isnt a good idea and produces very inconsistent results. Upsampling is probably a better idea.\n",
    "- Although downsampling isnt the best method with such a small dataset, the bias is improved using it. \n",
    "### **This is may be a good strategy, however it is not recommended to be used for a small dataset as the results are too inconsistent.**"
   ]
  },
  {
   "cell_type": "markdown",
   "metadata": {},
   "source": [
    "# Upsampling\n",
    "We can define a SMOTE instance with default parameters that will balance the minority class and then fit and apply it in one step to create a transformed version of our dataset. SMOTE produces additional synthetic minority class samples by interpolating between real samples.  \n",
    "We configure SMOTE to bring up the minority class count level with the majority class. "
   ]
  },
  {
   "cell_type": "code",
   "execution_count": 36,
   "metadata": {},
   "outputs": [],
   "source": [
    "sm = SMOTE(random_state=12)\n",
    "X_train_res2, y_train_res2 = sm.fit_sample(X_train, y_train)"
   ]
  },
  {
   "cell_type": "code",
   "execution_count": 37,
   "metadata": {},
   "outputs": [
    {
     "name": "stdout",
     "output_type": "stream",
     "text": [
      "Original Training\n",
      "Majority class: 179\n",
      "Minority class: 50\n",
      "Upsampled Training\n",
      "Majority class: 179\n",
      "Minority class: 179\n"
     ]
    }
   ],
   "source": [
    "print(\"Original Training\")\n",
    "print(\"Majority class:\",Counter(y_train)['GE5'])\n",
    "print(\"Minority class:\", Counter(y_train)['L5'])\n",
    "print(\"Upsampled Training\")\n",
    "print(\"Majority class:\",Counter(y_train_res2)['GE5'])\n",
    "print(\"Minority class:\",Counter(y_train_res2)['L5'])"
   ]
  },
  {
   "cell_type": "code",
   "execution_count": 38,
   "metadata": {},
   "outputs": [
    {
     "name": "stdout",
     "output_type": "stream",
     "text": [
      "DecisionTreeClassifier\n",
      "(358, 3) (77, 3)\n",
      "Accuracy:  0.58\n",
      "Minority class in test set : 0.40\n",
      "Predicted minority class : 0.35\n",
      "KNeighborsClassifier  \n",
      "(358, 3) (77, 3)\n",
      "Accuracy:  0.64\n",
      "Minority class in test set : 0.40\n",
      "Predicted minority class : 0.32\n",
      "GradientBoostingClassifier\n",
      "(358, 3) (77, 3)\n",
      "Accuracy:  0.62\n",
      "Minority class in test set : 0.40\n",
      "Predicted minority class : 0.26\n",
      "LogisticRegression    \n",
      "(358, 3) (77, 3)\n",
      "Accuracy:  0.65\n",
      "Minority class in test set : 0.40\n",
      "Predicted minority class : 0.26\n"
     ]
    }
   ],
   "source": [
    "res2_d = {}\n",
    "acc_res2 = {}\n",
    "\n",
    "\n",
    "for m in model_d:\n",
    "    y_pred = model_d[m].fit(X_train_res2, y_train_res2).predict(X_test)\n",
    "\n",
    "    pred_neg = Counter(y_pred)['L5']\n",
    "    test_neg = Counter(y_test)['L5']\n",
    "    res2_d[m] = pred_neg/len(y_pred)\n",
    "    \n",
    "    print(\"{:22}\".format(type(model_d[m]).__name__))\n",
    "    print(X_train_res2.shape,X_test.shape)\n",
    "    print('Accuracy:  %0.2f' % accuracy_score(y_pred, y_test))\n",
    "    acc_res2[m] = accuracy_score(y_pred, y_test)\n",
    "    print(\"Minority class in test set : %0.2f\" % (test_neg/len(y_test)))\n",
    "    print(\"Predicted minority class : %0.2f\" % (pred_neg/len(y_pred)))"
   ]
  },
  {
   "cell_type": "code",
   "execution_count": 39,
   "metadata": {},
   "outputs": [
    {
     "data": {
      "image/png": "[encoded data removed]",
      "text/plain": [
       "<Figure size 432x288 with 1 Axes>"
      ]
     },
     "metadata": {
      "needs_background": "light"
     },
     "output_type": "display_data"
    }
   ],
   "source": [
    "import matplotlib.pyplot as plt \n",
    "import numpy as np\n",
    "%matplotlib inline \n",
    "\n",
    "fig, ax = plt.subplots()\n",
    "width = 0.35\n",
    "\n",
    "# Add the prior figures to the data for plotting\n",
    "objects = list(bias_d.keys())\n",
    "positive = list(bias_d.values())\n",
    "res = list(res2_d.values())\n",
    "\n",
    "y_pos = np.arange(len(objects))\n",
    "\n",
    "p1 = ax.bar(y_pos, positive, width, align='center', \n",
    "            color=['blue', 'blue','blue','blue'],alpha=0.5)\n",
    "\n",
    "p2 = ax.bar(y_pos+width, res, width, align='center', \n",
    "            color=['g','g','g','g'],alpha=0.5)\n",
    "\n",
    "plt.axhline(y= round(test_neg/len(y_test), 1), color='black', linestyle='-')\n",
    "ax.legend((p1[1], p2[1]), ('Raw', 'Upsampled'))\n",
    "\n",
    "plt.xticks(y_pos, objects)\n",
    "plt.ylabel('L5 Counts%')\n",
    "plt.title('Impact of Upsampling')\n",
    " \n",
    "plt.show()"
   ]
  },
  {
   "cell_type": "code",
   "execution_count": 40,
   "metadata": {},
   "outputs": [
    {
     "data": {
      "image/png": "[encoded data removed]",
      "text/plain": [
       "<Figure size 432x288 with 1 Axes>"
      ]
     },
     "metadata": {
      "needs_background": "light"
     },
     "output_type": "display_data"
    }
   ],
   "source": [
    "fig, ax = plt.subplots()\n",
    "\n",
    "objects =  list(acc_bl.keys())\n",
    "before =   list(acc_bl.values())\n",
    "after =  list(acc_res2.values())\n",
    "y_pos = np.arange(len(objects))\n",
    "p1 = ax.bar(y_pos, before, width, align='center', \n",
    "            color=['blue', 'blue','blue','blue'],alpha=0.5)\n",
    "p2 = ax.bar(y_pos+width, after, width, align='center', \n",
    "            color=['g','g','g','g'],alpha=0.5)\n",
    "ax.legend((p1[1], p2[1]), ('Raw', 'Upsampled'))\n",
    "plt.xticks(y_pos, objects)\n",
    "plt.ylabel('Accuracy')\n",
    "plt.title('Impact of Upsampling')\n",
    "plt.show()"
   ]
  },
  {
   "cell_type": "markdown",
   "metadata": {},
   "source": [
    "### Upsampling - Discussion\n",
    "\n",
    "The solution we propose is to upsample the minority class data in training. \n",
    "- The solution works pretty well, across multiple runs the bias is reduced. \n",
    "- The assessment is unstable in that different runs produce slightly different results. However the results are much more staple than downsampling. \n",
    "- There was no impact on the accuracy for kNN.\n",
    "- The accuracy was slightly reduced for decision tree, while the accuracy increased for both gradient Boosting and logistic regression.\n",
    "### **This is a good strategy as it reduces the bias while also increasing the accuracy for some models.**"
   ]
  },
  {
   "cell_type": "markdown",
   "metadata": {},
   "source": [
    "# Upsampling and Downsampling\n",
    "The [original paper on SMOTE](https://arxiv.org/abs/1106.1813) suggested combining SMOTE with random undersampling of the majority class."
   ]
  },
  {
   "cell_type": "markdown",
   "metadata": {},
   "source": [
    "We can update the example to first oversample the minority class to have 60 percent the number of examples of the majority class (e.g. about 107), then use random undersampling to reduce the number of examples in the majority class to have 70 percent more than the minority class (e.g. about 152)."
   ]
  },
  {
   "cell_type": "code",
   "execution_count": 41,
   "metadata": {},
   "outputs": [],
   "source": [
    "over = SMOTE(sampling_strategy=0.6)\n",
    "under = RandomUnderSampler(sampling_strategy=0.7)"
   ]
  },
  {
   "cell_type": "markdown",
   "metadata": {},
   "source": [
    "The Pipeline can then be applied to a training set, performing each transformation in turn and returning a final training set with the accumulation of the transform applied to it, in this case oversampling followed by undersampling."
   ]
  },
  {
   "cell_type": "code",
   "execution_count": 42,
   "metadata": {},
   "outputs": [],
   "source": [
    "steps = [('o', over), ('u', under)]\n",
    "pipeline = Pipeline(steps=steps)"
   ]
  },
  {
   "cell_type": "code",
   "execution_count": 43,
   "metadata": {},
   "outputs": [
    {
     "data": {
      "text/plain": [
       "Counter({'GE5': 179, 'L5': 50})"
      ]
     },
     "execution_count": 43,
     "metadata": {},
     "output_type": "execute_result"
    }
   ],
   "source": [
    "Counter(y_train)"
   ]
  },
  {
   "cell_type": "code",
   "execution_count": 44,
   "metadata": {},
   "outputs": [],
   "source": [
    "# transform the dataset\n",
    "X_train_res, y_train_res = pipeline.fit_resample(X_train, y_train)"
   ]
  },
  {
   "cell_type": "code",
   "execution_count": 45,
   "metadata": {},
   "outputs": [
    {
     "data": {
      "text/plain": [
       "Counter({'GE5': 152, 'L5': 107})"
      ]
     },
     "execution_count": 45,
     "metadata": {},
     "output_type": "execute_result"
    }
   ],
   "source": [
    "Counter(y_train_res)"
   ]
  },
  {
   "cell_type": "code",
   "execution_count": 46,
   "metadata": {},
   "outputs": [
    {
     "name": "stdout",
     "output_type": "stream",
     "text": [
      "Original Training\n",
      "Majority class: 179\n",
      "Minority class: 50\n",
      "Upsampled Training\n",
      "Majority class: 152\n",
      "Minority class: 107\n"
     ]
    }
   ],
   "source": [
    "print(\"Original Training\")\n",
    "print(\"Majority class:\",Counter(y_train)['GE5'])\n",
    "print(\"Minority class:\", Counter(y_train)['L5'])\n",
    "print(\"Upsampled Training\")\n",
    "print(\"Majority class:\",Counter(y_train_res)['GE5'])\n",
    "print(\"Minority class:\",Counter(y_train_res)['L5'])"
   ]
  },
  {
   "cell_type": "code",
   "execution_count": 47,
   "metadata": {},
   "outputs": [
    {
     "name": "stdout",
     "output_type": "stream",
     "text": [
      "DecisionTreeClassifier\n",
      "(259, 3) (77, 3)\n",
      "Accuracy:  0.62\n",
      "Minority class in test set : 0.40\n",
      "Predicted minority class : 0.26\n",
      "*********************\n",
      "KNeighborsClassifier  \n",
      "(259, 3) (77, 3)\n",
      "Accuracy:  0.68\n",
      "Minority class in test set : 0.40\n",
      "Predicted minority class : 0.34\n",
      "*********************\n",
      "GradientBoostingClassifier\n",
      "(259, 3) (77, 3)\n",
      "Accuracy:  0.61\n",
      "Minority class in test set : 0.40\n",
      "Predicted minority class : 0.25\n",
      "*********************\n",
      "LogisticRegression    \n",
      "(259, 3) (77, 3)\n",
      "Accuracy:  0.66\n",
      "Minority class in test set : 0.40\n",
      "Predicted minority class : 0.22\n",
      "*********************\n"
     ]
    }
   ],
   "source": [
    "res_d = {}\n",
    "acc_res = {}\n",
    "\n",
    "\n",
    "for m in model_d:\n",
    "    y_pred = model_d[m].fit(X_train_res, y_train_res).predict(X_test)\n",
    "\n",
    "    pred_neg = Counter(y_pred)['L5']\n",
    "    test_neg = Counter(y_test)['L5']\n",
    "    res_d[m] = pred_neg/len(y_pred)\n",
    "    \n",
    "    print(\"{:22}\".format(type(model_d[m]).__name__))\n",
    "    print(X_train_res.shape,X_test.shape)\n",
    "    print('Accuracy:  %0.2f' % accuracy_score(y_pred, y_test))\n",
    "    acc_res[m] = accuracy_score(y_pred, y_test)\n",
    "    print(\"Minority class in test set : %0.2f\" % (test_neg/len(y_test)))\n",
    "    print(\"Predicted minority class : %0.2f\" % (pred_neg/len(y_pred)))\n",
    "    print('*********************')"
   ]
  },
  {
   "cell_type": "code",
   "execution_count": 48,
   "metadata": {},
   "outputs": [
    {
     "data": {
      "image/png": "[encoded data removed]",
      "text/plain": [
       "<Figure size 432x288 with 1 Axes>"
      ]
     },
     "metadata": {
      "needs_background": "light"
     },
     "output_type": "display_data"
    }
   ],
   "source": [
    "import matplotlib.pyplot as plt \n",
    "import numpy as np\n",
    "%matplotlib inline \n",
    "\n",
    "fig, ax = plt.subplots()\n",
    "width = 0.35\n",
    "\n",
    "# Add the prior figures to the data for plotting\n",
    "objects = list(bias_d.keys())\n",
    "positive = list(bias_d.values())\n",
    "res = list(res_d.values())\n",
    "\n",
    "y_pos = np.arange(len(objects))\n",
    "\n",
    "p1 = ax.bar(y_pos, positive, width, align='center', \n",
    "            color=['blue', 'blue','blue','blue'],alpha=0.5)\n",
    "\n",
    "p2 = ax.bar(y_pos+width, res, width, align='center', \n",
    "            color=['g','g','g','g'],alpha=0.5)\n",
    "\n",
    "plt.axhline(y= round(test_neg/len(y_test), 1), color='black', linestyle='-')\n",
    "ax.legend((p1[1], p2[1]), ('Raw', 'Up & Down-sampled'))\n",
    "\n",
    "plt.xticks(y_pos, objects)\n",
    "plt.ylabel('L5 Counts%')\n",
    "plt.title('Impact of Upsampling & Downsampling')\n",
    " \n",
    "plt.show()"
   ]
  },
  {
   "cell_type": "code",
   "execution_count": 49,
   "metadata": {},
   "outputs": [
    {
     "data": {
      "image/png": "[encoded data removed]",
      "text/plain": [
       "<Figure size 432x288 with 1 Axes>"
      ]
     },
     "metadata": {
      "needs_background": "light"
     },
     "output_type": "display_data"
    }
   ],
   "source": [
    "fig, ax = plt.subplots()\n",
    "\n",
    "objects =  list(acc_bl.keys())\n",
    "before =   list(acc_bl.values())\n",
    "after =  list(acc_res.values())\n",
    "y_pos = np.arange(len(objects))\n",
    "p1 = ax.bar(y_pos, before, width, align='center', \n",
    "            color=['blue', 'blue','blue','blue'],alpha=0.5)\n",
    "p2 = ax.bar(y_pos+width, after, width, align='center', \n",
    "            color=['g','g','g','g'],alpha=0.5)\n",
    "ax.legend((p1[1], p2[1]), ('Raw', 'Up & Down-sampled'))\n",
    "plt.xticks(y_pos, objects)\n",
    "plt.ylabel('Accuracy')\n",
    "plt.title('Impact of Upsampling & Downsampling')\n",
    "plt.show()"
   ]
  },
  {
   "cell_type": "markdown",
   "metadata": {},
   "source": [
    "### Upsampling and downsampling - Discussion\n",
    "\n",
    "The solution we propose is to use both Upsampling and Downsampling on the training data. \n",
    "- The solution works pretty well, across multiple runs the bias is reduced. \n",
    "- The assessment is unstable in that different runs produce slightly different results. However, like upsampling, the results are much more staple than downsampling. \n",
    "- During most runs,the accuracy was slightly reduced for decision tree, while the accuracy increased for gradient Boosting, logistic regression and kNN.\n",
    "### **This is a good strategy as it reduces the bias while also increasing the accuracy in general.**"
   ]
  },
  {
   "cell_type": "markdown",
   "metadata": {},
   "source": [
    "# Compare strategies\n",
    "I will not include Dwonsampling in this comparisson as the results were too inconsistant. I will compare the effects of Upsampling and upsampling & Downsampling."
   ]
  },
  {
   "cell_type": "code",
   "execution_count": 50,
   "metadata": {},
   "outputs": [
    {
     "data": {
      "image/png": "[encoded data removed]",
      "text/plain": [
       "<Figure size 720x720 with 1 Axes>"
      ]
     },
     "metadata": {
      "needs_background": "light"
     },
     "output_type": "display_data"
    }
   ],
   "source": [
    "fig, ax = plt.subplots(figsize=(10,10))\n",
    "\n",
    "objects =  list(acc_bl.keys())\n",
    "up =  list(res2_d.values())\n",
    "up_down = list(res_d.values())\n",
    "y_pos = np.arange(len(objects))\n",
    "width = 1.0/(3 + 2)\n",
    "\n",
    "p1 = ax.bar(y_pos, up, width, align='center', \n",
    "            color=['g','g','g','g'],alpha=0.5)\n",
    "p2 = ax.bar(y_pos+width, up_down, width, align='center', \n",
    "            color=['red','red','red','red'],alpha=0.5)\n",
    "plt.axhline(y= round(test_neg/len(y_test), 1), color='black', linestyle='-')\n",
    "\n",
    "ax.legend((p1[1], p2[1]), ('Upsampled', 'Up and Downsampled'))\n",
    "ax.autoscale(tight=True)\n",
    "plt.xticks(y_pos, objects)\n",
    "plt.ylabel('L5 counts%')\n",
    "plt.title('Comparing Strategies')\n",
    "plt.show()"
   ]
  },
  {
   "cell_type": "code",
   "execution_count": 51,
   "metadata": {},
   "outputs": [
    {
     "data": {
      "image/png": "[encoded data removed]",
      "text/plain": [
       "<Figure size 1080x1080 with 1 Axes>"
      ]
     },
     "metadata": {
      "needs_background": "light"
     },
     "output_type": "display_data"
    }
   ],
   "source": [
    "fig, ax = plt.subplots(figsize=(10,10))\n",
    "\n",
    "objects =  list(acc_bl.keys())\n",
    "up =  list(acc_res2.values())\n",
    "up_down = list(acc_res.values())\n",
    "y_pos = np.arange(len(objects))\n",
    "width = 1.0/(3 + 2)\n",
    "\n",
    "p1 = ax.bar(y_pos, up, width, align='center', \n",
    "            color=['g','g','g','g'],alpha=0.5)\n",
    "p2 = ax.bar(y_pos+width, up_down, width, align='center', \n",
    "            color=['red','red','red','red'],alpha=0.5)\n",
    "ax.legend((p1[1], p2[1]), ('Upsampled', 'Up and Downsampled'))\n",
    "ax.autoscale(tight=True)\n",
    "plt.xticks(y_pos, objects)\n",
    "plt.ylabel('Accuracy')\n",
    "plt.title('Comparing Strategies')\n",
    "plt.show()"
   ]
  },
  {
   "cell_type": "markdown",
   "metadata": {},
   "source": [
    "### **In general, Upsampling seems to work best. As mentioned earlier the accuracy only decreased for decision trees using upsampling which shows that upsampling is a very good strategy. It significantly improved the bias while not effecting accuracy too much, in some cases even increasing accuracy.**"
   ]
  },
  {
   "cell_type": "markdown",
   "metadata": {},
   "source": [
    "# Question 3\n",
    "I decided to use the HotelRevHelpfulnessV2.csv file that was provided on brightspace."
   ]
  },
  {
   "cell_type": "code",
   "execution_count": 65,
   "metadata": {},
   "outputs": [
    {
     "data": {
      "text/html": [
       "<div>\n",
       "<style scoped>\n",
       "    .dataframe tbody tr th:only-of-type {\n",
       "        vertical-align: middle;\n",
       "    }\n",
       "\n",
       "    .dataframe tbody tr th {\n",
       "        vertical-align: top;\n",
       "    }\n",
       "\n",
       "    .dataframe thead th {\n",
       "        text-align: right;\n",
       "    }\n",
       "</style>\n",
       "<table border=\"1\" class=\"dataframe\">\n",
       "  <thead>\n",
       "    <tr style=\"text-align: right;\">\n",
       "      <th></th>\n",
       "      <th>aveHelpfulnessRatioUser</th>\n",
       "      <th>stdevHelpfulnessRatioUser</th>\n",
       "      <th>pcReviewsExceedMinHelpfulnessSupport</th>\n",
       "      <th>numReviewsUser</th>\n",
       "      <th>numReviewsHotel</th>\n",
       "      <th>ratingUser</th>\n",
       "      <th>numberSubRatingsUser</th>\n",
       "      <th>subRatingMeanUser</th>\n",
       "      <th>subRatingStdevUser</th>\n",
       "      <th>aveRatingUser</th>\n",
       "      <th>...</th>\n",
       "      <th>completeness_2</th>\n",
       "      <th>completeness_3</th>\n",
       "      <th>numberTermsEntry</th>\n",
       "      <th>percentageAlphaCharsEntry</th>\n",
       "      <th>fractionUpperCaseCharsEntry</th>\n",
       "      <th>fractionYouVsIEntry</th>\n",
       "      <th>numberTermsSummaryQuote</th>\n",
       "      <th>percentageAlphaCharsSummaryQuote</th>\n",
       "      <th>fractionUpperCaseCharsSummaryQuote</th>\n",
       "      <th>reviewHelpfulness</th>\n",
       "    </tr>\n",
       "  </thead>\n",
       "  <tbody>\n",
       "    <tr>\n",
       "      <th>0</th>\n",
       "      <td>1.000000</td>\n",
       "      <td>0.000000</td>\n",
       "      <td>0.666667</td>\n",
       "      <td>3</td>\n",
       "      <td>16</td>\n",
       "      <td>5</td>\n",
       "      <td>4</td>\n",
       "      <td>4.000000</td>\n",
       "      <td>0.000000</td>\n",
       "      <td>4.333333</td>\n",
       "      <td>...</td>\n",
       "      <td>0</td>\n",
       "      <td>1</td>\n",
       "      <td>182</td>\n",
       "      <td>0.788474</td>\n",
       "      <td>0.025703</td>\n",
       "      <td>0.500000</td>\n",
       "      <td>6</td>\n",
       "      <td>0.815789</td>\n",
       "      <td>0.096774</td>\n",
       "      <td>1</td>\n",
       "    </tr>\n",
       "    <tr>\n",
       "      <th>1</th>\n",
       "      <td>0.772487</td>\n",
       "      <td>0.377321</td>\n",
       "      <td>0.500000</td>\n",
       "      <td>12</td>\n",
       "      <td>233</td>\n",
       "      <td>5</td>\n",
       "      <td>0</td>\n",
       "      <td>0.000000</td>\n",
       "      <td>0.000000</td>\n",
       "      <td>4.333333</td>\n",
       "      <td>...</td>\n",
       "      <td>0</td>\n",
       "      <td>0</td>\n",
       "      <td>158</td>\n",
       "      <td>0.791888</td>\n",
       "      <td>0.012594</td>\n",
       "      <td>0.500000</td>\n",
       "      <td>1</td>\n",
       "      <td>1.000000</td>\n",
       "      <td>0.083333</td>\n",
       "      <td>1</td>\n",
       "    </tr>\n",
       "    <tr>\n",
       "      <th>2</th>\n",
       "      <td>0.715473</td>\n",
       "      <td>0.300437</td>\n",
       "      <td>0.833333</td>\n",
       "      <td>12</td>\n",
       "      <td>302</td>\n",
       "      <td>4</td>\n",
       "      <td>7</td>\n",
       "      <td>3.714286</td>\n",
       "      <td>0.755929</td>\n",
       "      <td>4.166667</td>\n",
       "      <td>...</td>\n",
       "      <td>0</td>\n",
       "      <td>3</td>\n",
       "      <td>59</td>\n",
       "      <td>0.799639</td>\n",
       "      <td>0.024831</td>\n",
       "      <td>0.333333</td>\n",
       "      <td>4</td>\n",
       "      <td>0.828571</td>\n",
       "      <td>0.034483</td>\n",
       "      <td>0</td>\n",
       "    </tr>\n",
       "    <tr>\n",
       "      <th>3</th>\n",
       "      <td>0.521250</td>\n",
       "      <td>0.481675</td>\n",
       "      <td>0.222222</td>\n",
       "      <td>36</td>\n",
       "      <td>6</td>\n",
       "      <td>1</td>\n",
       "      <td>4</td>\n",
       "      <td>1.000000</td>\n",
       "      <td>0.000000</td>\n",
       "      <td>3.527778</td>\n",
       "      <td>...</td>\n",
       "      <td>0</td>\n",
       "      <td>0</td>\n",
       "      <td>95</td>\n",
       "      <td>0.782212</td>\n",
       "      <td>0.029155</td>\n",
       "      <td>0.500000</td>\n",
       "      <td>2</td>\n",
       "      <td>0.800000</td>\n",
       "      <td>0.062500</td>\n",
       "      <td>0</td>\n",
       "    </tr>\n",
       "    <tr>\n",
       "      <th>4</th>\n",
       "      <td>0.603175</td>\n",
       "      <td>0.246926</td>\n",
       "      <td>1.000000</td>\n",
       "      <td>2</td>\n",
       "      <td>271</td>\n",
       "      <td>3</td>\n",
       "      <td>0</td>\n",
       "      <td>0.000000</td>\n",
       "      <td>0.000000</td>\n",
       "      <td>3.500000</td>\n",
       "      <td>...</td>\n",
       "      <td>0</td>\n",
       "      <td>0</td>\n",
       "      <td>43</td>\n",
       "      <td>0.805128</td>\n",
       "      <td>0.028662</td>\n",
       "      <td>0.000000</td>\n",
       "      <td>1</td>\n",
       "      <td>1.000000</td>\n",
       "      <td>0.142857</td>\n",
       "      <td>0</td>\n",
       "    </tr>\n",
       "  </tbody>\n",
       "</table>\n",
       "<p>5 rows × 24 columns</p>\n",
       "</div>"
      ],
      "text/plain": [
       "   aveHelpfulnessRatioUser  stdevHelpfulnessRatioUser  \\\n",
       "0                 1.000000                   0.000000   \n",
       "1                 0.772487                   0.377321   \n",
       "2                 0.715473                   0.300437   \n",
       "3                 0.521250                   0.481675   \n",
       "4                 0.603175                   0.246926   \n",
       "\n",
       "   pcReviewsExceedMinHelpfulnessSupport  numReviewsUser  numReviewsHotel  \\\n",
       "0                              0.666667               3               16   \n",
       "1                              0.500000              12              233   \n",
       "2                              0.833333              12              302   \n",
       "3                              0.222222              36                6   \n",
       "4                              1.000000               2              271   \n",
       "\n",
       "   ratingUser  numberSubRatingsUser  subRatingMeanUser  subRatingStdevUser  \\\n",
       "0           5                     4           4.000000            0.000000   \n",
       "1           5                     0           0.000000            0.000000   \n",
       "2           4                     7           3.714286            0.755929   \n",
       "3           1                     4           1.000000            0.000000   \n",
       "4           3                     0           0.000000            0.000000   \n",
       "\n",
       "   aveRatingUser  ...  completeness_2  completeness_3  numberTermsEntry  \\\n",
       "0       4.333333  ...               0               1               182   \n",
       "1       4.333333  ...               0               0               158   \n",
       "2       4.166667  ...               0               3                59   \n",
       "3       3.527778  ...               0               0                95   \n",
       "4       3.500000  ...               0               0                43   \n",
       "\n",
       "   percentageAlphaCharsEntry  fractionUpperCaseCharsEntry  \\\n",
       "0                   0.788474                     0.025703   \n",
       "1                   0.791888                     0.012594   \n",
       "2                   0.799639                     0.024831   \n",
       "3                   0.782212                     0.029155   \n",
       "4                   0.805128                     0.028662   \n",
       "\n",
       "   fractionYouVsIEntry  numberTermsSummaryQuote  \\\n",
       "0             0.500000                        6   \n",
       "1             0.500000                        1   \n",
       "2             0.333333                        4   \n",
       "3             0.500000                        2   \n",
       "4             0.000000                        1   \n",
       "\n",
       "   percentageAlphaCharsSummaryQuote  fractionUpperCaseCharsSummaryQuote  \\\n",
       "0                          0.815789                            0.096774   \n",
       "1                          1.000000                            0.083333   \n",
       "2                          0.828571                            0.034483   \n",
       "3                          0.800000                            0.062500   \n",
       "4                          1.000000                            0.142857   \n",
       "\n",
       "   reviewHelpfulness  \n",
       "0                  1  \n",
       "1                  1  \n",
       "2                  0  \n",
       "3                  0  \n",
       "4                  0  \n",
       "\n",
       "[5 rows x 24 columns]"
      ]
     },
     "execution_count": 65,
     "metadata": {},
     "output_type": "execute_result"
    }
   ],
   "source": [
    "hotel = pd.read_csv('HotelRevHelpfulnessV2.csv')\n",
    "hotel.head()"
   ]
  },
  {
   "cell_type": "code",
   "execution_count": 66,
   "metadata": {},
   "outputs": [
    {
     "data": {
      "text/plain": [
       "1    308\n",
       "0    178\n",
       "Name: reviewHelpfulness, dtype: int64"
      ]
     },
     "execution_count": 66,
     "metadata": {},
     "output_type": "execute_result"
    }
   ],
   "source": [
    "hotel['reviewHelpfulness'].value_counts() "
   ]
  },
  {
   "cell_type": "code",
   "execution_count": 67,
   "metadata": {},
   "outputs": [
    {
     "data": {
      "image/png": "[encoded data removed]",
      "text/plain": [
       "<Figure size 432x288 with 1 Axes>"
      ]
     },
     "metadata": {
      "needs_background": "light"
     },
     "output_type": "display_data"
    }
   ],
   "source": [
    "objects = ('1', '0')\n",
    "y_pos = np.arange(len(objects))\n",
    "performance = [len(hotel[hotel['reviewHelpfulness']==1]), len(hotel[hotel['reviewHelpfulness']==0])]\n",
    "\n",
    "plt.bar(y_pos, performance, align='center', alpha=0.5)\n",
    "plt.xticks(y_pos, objects)\n",
    "plt.ylabel('Counts')\n",
    "plt.title('Counts of each class')\n",
    "\n",
    "plt.show()"
   ]
  },
  {
   "cell_type": "markdown",
   "metadata": {},
   "source": [
    "'reviewHelpfulness' is the class label. `1` is positive and `0` is negative.\n",
    "You can see that this is a very unbalanced dataset."
   ]
  },
  {
   "cell_type": "code",
   "execution_count": 68,
   "metadata": {},
   "outputs": [
    {
     "data": {
      "text/plain": [
       "(486, 23)"
      ]
     },
     "execution_count": 68,
     "metadata": {},
     "output_type": "execute_result"
    }
   ],
   "source": [
    "y = hotel.pop('reviewHelpfulness').values\n",
    "X = hotel.values\n",
    "X.shape"
   ]
  },
  {
   "cell_type": "code",
   "execution_count": 69,
   "metadata": {},
   "outputs": [
    {
     "name": "stdout",
     "output_type": "stream",
     "text": [
      "Original Dataset\n",
      "Minority class: 178\n",
      "Majority class: 308\n",
      "Minority class: 36.63%\n"
     ]
    }
   ],
   "source": [
    "print(\"Original Dataset\")\n",
    "print(\"Minority class:\",len(y) - y.sum())\n",
    "print(\"Majority class:\",y.sum())\n",
    "print(\"Minority class: {:.2f}%\".format((len(y)-y.sum())/len(y)*100))"
   ]
  },
  {
   "cell_type": "code",
   "execution_count": 71,
   "metadata": {},
   "outputs": [
    {
     "name": "stdout",
     "output_type": "stream",
     "text": [
      "Unhelpful in test set : 46\n",
      "DecisionTreeClassifier\n",
      "(364, 23) (122, 23)\n",
      "Accuracy:  0.61\n",
      "F1:  0.70\n",
      "Pred. Unhelpful: 36\n",
      "*********************\n",
      "KNeighborsClassifier  \n",
      "(364, 23) (122, 23)\n",
      "Accuracy:  0.62\n",
      "F1:  0.72\n",
      "Pred. Unhelpful: 36\n",
      "*********************\n",
      "GradientBoostingClassifier\n",
      "(364, 23) (122, 23)\n",
      "Accuracy:  0.71\n",
      "F1:  0.80\n",
      "Pred. Unhelpful: 27\n",
      "*********************\n",
      "LogisticRegression    \n",
      "(364, 23) (122, 23)\n",
      "Accuracy:  0.66\n",
      "F1:  0.78\n",
      "Pred. Unhelpful: 15\n",
      "*********************\n"
     ]
    }
   ],
   "source": [
    "X_train, X_test, y_train, y_test = train_test_split(X, y, random_state=2)\n",
    "bias_ds2 = {}\n",
    "acc_bl = {}\n",
    "\n",
    "print(\"Unhelpful in test set : %d\" % (len(y_test) - y_test.sum()))\n",
    "\n",
    "for m in model_d:\n",
    "    y_pred = model_d[m].fit(X_train, y_train).predict(X_test)\n",
    "    pred_count = (len(y_pred) - y_pred.sum())\n",
    "    bias_ds2[m] = pred_count\n",
    "    acc = accuracy_score(y_test, y_pred)\n",
    "    acc_bl[m] = acc\n",
    "  \n",
    "    print(\"{:22}\".format(type(model_d[m]).__name__))\n",
    "    print(X_train.shape,X_test.shape)\n",
    "    print('Accuracy:  %0.2f' % acc)\n",
    "    print('F1:  %0.2f' % f1_score(y_test, y_pred)) \n",
    "    print(\"Pred. Unhelpful:\", pred_count)\n",
    "    print('*********************')"
   ]
  },
  {
   "cell_type": "code",
   "execution_count": 72,
   "metadata": {},
   "outputs": [
    {
     "data": {
      "image/png": "[encoded data removed]",
      "text/plain": [
       "<Figure size 432x288 with 1 Axes>"
      ]
     },
     "metadata": {
      "needs_background": "light"
     },
     "output_type": "display_data"
    }
   ],
   "source": [
    "import matplotlib.pyplot as plt \n",
    "import numpy as np\n",
    "%matplotlib inline \n",
    "\n",
    "# Add the prior figures to the data for plotting\n",
    "objects = list(bias_d.keys())\n",
    "positive = list(bias_ds2.values())\n",
    "\n",
    "y_pos = np.arange(len(objects))\n",
    "\n",
    "plt.bar(y_pos, positive, align='center', color=[ 'blue', 'blue','blue','blue','blue','blue'],alpha=0.5)\n",
    "len(y_test) - y_test.sum()\n",
    "plt.axhline(y= len(y_test) - y_test.sum(), color='black', linestyle='-')\n",
    "plt.xticks(y_pos, objects)\n",
    "plt.ylabel('Minority Count')\n",
    "plt.title('ML Algorithm Bias')\n",
    " \n",
    "plt.show()"
   ]
  },
  {
   "cell_type": "markdown",
   "metadata": {},
   "source": [
    "The test set contained 46 occurances of the minority .\n",
    "- Assessment of bias is independent of accuracy, i.e. proportion of examples classified as the minority class compared with the actual proportion in the test set.\n",
    "- Every model appears to be biased towards the majority class as each model predicts less than 46 minority occurances.\n",
    "- Logistic regression showed the most bias, only predicting 15 minority class.\n",
    "- Gradient boosting predicted only 26 minority class, which again is significantly lower than the target of 46.\n",
    "- K-NN wasnt much better as it predicted 36 minority class.\n",
    "- Decision tree showed the least biased predicting 39 minority class. Although this was the least biased it still is very biased towards the majority class."
   ]
  },
  {
   "cell_type": "markdown",
   "metadata": {},
   "source": [
    "During my analysis in **Question 2** I tested 3 strategies to rectify bias. The 3 strategies were:\n",
    "- Downsampling\n",
    "- Upsampling\n",
    "- Upsampling and Downsampling<br/> \n",
    "\n",
    "Upsampling appeared to work best so I will just test that strategy for this dataset."
   ]
  },
  {
   "cell_type": "code",
   "execution_count": 73,
   "metadata": {},
   "outputs": [],
   "source": [
    "sm = SMOTE(random_state=12)\n",
    "X_train_res, y_train_res = sm.fit_sample(X_train, y_train)"
   ]
  },
  {
   "cell_type": "code",
   "execution_count": 74,
   "metadata": {},
   "outputs": [
    {
     "name": "stdout",
     "output_type": "stream",
     "text": [
      "Original Training\n",
      "Majority class: 232\n",
      "Minority class: 132\n",
      "Upsampled Training\n",
      "Majority class: 232\n",
      "Minority class: 232\n"
     ]
    }
   ],
   "source": [
    "print(\"Original Training\")\n",
    "print(\"Majority class:\",Counter(y_train)[1])\n",
    "print(\"Minority class:\", Counter(y_train)[0])\n",
    "print(\"Upsampled Training\")\n",
    "print(\"Majority class:\",Counter(y_train_res)[1])\n",
    "print(\"Minority class:\",Counter(y_train_res)[0])"
   ]
  },
  {
   "cell_type": "code",
   "execution_count": 75,
   "metadata": {},
   "outputs": [
    {
     "name": "stdout",
     "output_type": "stream",
     "text": [
      "Unhelpful in test set : 46\n",
      "DecisionTreeClassifier\n",
      "(364, 23) (122, 23)\n",
      "Accuracy:  0.70\n",
      "F1:  0.75\n",
      "Pred. Unhelpful: {:d} 47\n",
      "*********************\n",
      "KNeighborsClassifier  \n",
      "(364, 23) (122, 23)\n",
      "Accuracy:  0.62\n",
      "F1:  0.68\n",
      "Pred. Unhelpful: {:d} 52\n",
      "*********************\n",
      "GradientBoostingClassifier\n",
      "(364, 23) (122, 23)\n",
      "Accuracy:  0.75\n",
      "F1:  0.80\n",
      "Pred. Unhelpful: {:d} 41\n",
      "*********************\n",
      "LogisticRegression    \n",
      "(364, 23) (122, 23)\n",
      "Accuracy:  0.61\n",
      "F1:  0.67\n",
      "Pred. Unhelpful: {:d} 55\n",
      "*********************\n"
     ]
    }
   ],
   "source": [
    "res_ds2 = {}\n",
    "acc_res = {}\n",
    "\n",
    "print(\"Unhelpful in test set : %d\" % (len(y_test) - y_test.sum()))\n",
    "\n",
    "for m in model_d:\n",
    "    y_pred = model_d[m].fit(X_train_res, y_train_res).predict(X_test)\n",
    "    pred_count = (len(y_pred) - y_pred.sum())\n",
    "    res_ds2[m] = pred_count\n",
    "    acc = accuracy_score(y_test, y_pred)\n",
    "    acc_res[m] = acc\n",
    "  \n",
    "    print(\"{:22}\".format(type(model_d[m]).__name__))\n",
    "    print(X_train.shape,X_test.shape)\n",
    "    print('Accuracy:  %0.2f' % acc)\n",
    "    print('F1:  %0.2f' % f1_score(y_test, y_pred))\n",
    "    print(\"Pred. Unhelpful: {:d}\", pred_count)\n",
    "    print('*********************')"
   ]
  },
  {
   "cell_type": "code",
   "execution_count": 76,
   "metadata": {},
   "outputs": [
    {
     "data": {
      "image/png": "[encoded data removed]",
      "text/plain": [
       "<Figure size 432x288 with 1 Axes>"
      ]
     },
     "metadata": {
      "needs_background": "light"
     },
     "output_type": "display_data"
    }
   ],
   "source": [
    "import matplotlib.pyplot as plt \n",
    "import numpy as np\n",
    "%matplotlib inline \n",
    "\n",
    "fig, ax = plt.subplots()\n",
    "width = 0.35\n",
    "\n",
    "# Add the prior figures to the data for plotting\n",
    "objects = list(bias_d.keys())\n",
    "positive = list(bias_ds2.values())\n",
    "res = list(res_ds2.values())\n",
    "\n",
    "y_pos = np.arange(len(objects))\n",
    "\n",
    "p1 = ax.bar(y_pos, positive, width, align='center', \n",
    "            color=['blue', 'blue','blue','blue'],alpha=0.5)\n",
    "\n",
    "p2 = ax.bar(y_pos+width, res, width, align='center', \n",
    "            color=['g','g','g','g'],alpha=0.5)\n",
    "\n",
    "plt.axhline(y= len(y_test) - y_test.sum(), color='black', linestyle='-')\n",
    "\n",
    "ax.legend((p1[1], p2[1]), ('Raw', 'Upsampled'))\n",
    "\n",
    "plt.xticks(y_pos, objects)\n",
    "plt.ylabel('Count')\n",
    "plt.title('ML Algorithm Bias')\n",
    " \n",
    "plt.show()"
   ]
  },
  {
   "cell_type": "code",
   "execution_count": 77,
   "metadata": {},
   "outputs": [
    {
     "data": {
      "image/png": "[encoded data removed]",
      "text/plain": [
       "<Figure size 432x288 with 1 Axes>"
      ]
     },
     "metadata": {
      "needs_background": "light"
     },
     "output_type": "display_data"
    }
   ],
   "source": [
    "fig, ax = plt.subplots()\n",
    "\n",
    "objects =  list(acc_bl.keys())\n",
    "before =   list(acc_bl.values())\n",
    "after =  list(acc_res.values())\n",
    "y_pos = np.arange(len(objects))\n",
    "p1 = ax.bar(y_pos, before, width, align='center', \n",
    "            color=['blue', 'blue','blue','blue'],alpha=0.5)\n",
    "p2 = ax.bar(y_pos+width, after, width, align='center', \n",
    "            color=['g','g','g','g'],alpha=0.5)\n",
    "ax.legend((p1[1], p2[1]), ('Raw', 'Upsampled'))\n",
    "plt.xticks(y_pos, objects)\n",
    "plt.ylabel('Accuracy')\n",
    "plt.title('Impact of Upsampling')\n",
    "plt.show()"
   ]
  },
  {
   "cell_type": "markdown",
   "metadata": {},
   "source": [
    "### Second Dataset Discussion  \n",
    "The results on the second dataset are again quite positive. \n",
    "- There is good improvement on bias.\n",
    "- There was an increase in accuracy for both decision tree and gradient boosting.\n",
    "- kNN accuracy remained the same.\n",
    "- Logistic regression is the only model that seen a decrease in accuracy. \n",
    "- It seems that **decision tree** offers the best balance between bias and accuracy.\n",
    "  - Decision tree predicted 47 occurances of the minority class whish is just 1 more than the actual amount of occurance(46), showing no bias.\n",
    "- It seems that **gradient boosting** offers the second best balance between bias and accuracy.\n",
    "  - Gradient boosting predicted 41 occurances of the minority class whish is just 5 less than the actual amount of occurance(46), showing very little bias.\n",
    "### **Once again, upsampling proves to be a good strategy to rectify bias.**"
   ]
  },
  {
   "cell_type": "code",
   "execution_count": null,
   "metadata": {},
   "outputs": [],
   "source": []
  },
  {
   "cell_type": "code",
   "execution_count": null,
   "metadata": {},
   "outputs": [],
   "source": []
  }
 ],
 "metadata": {
  "kernelspec": {
   "display_name": "Python 3",
   "language": "python",
   "name": "python3"
  },
  "language_info": {
   "codemirror_mode": {
    "name": "ipython",
    "version": 3
   },
   "file_extension": ".py",
   "mimetype": "text/x-python",
   "name": "python",
   "nbconvert_exporter": "python",
   "pygments_lexer": "ipython3",
   "version": "3.7.3"
  }
 },
 "nbformat": 4,
 "nbformat_minor": 4
}
